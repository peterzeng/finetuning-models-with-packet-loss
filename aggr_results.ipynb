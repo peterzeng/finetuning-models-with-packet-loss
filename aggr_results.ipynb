{
 "cells": [
  {
   "cell_type": "code",
   "execution_count": 1,
   "id": "a43b28e5",
   "metadata": {},
   "outputs": [],
   "source": [
    "import numpy as np"
   ]
  },
  {
   "cell_type": "code",
   "execution_count": 5,
   "id": "30af88f0",
   "metadata": {},
   "outputs": [],
   "source": [
    "# mnli_gpt_dir = '/data01/pegah/finetuning-models-with-packet-loss/gpt2-large_output/mnli'\n",
    "ge_gpt_dir = '/data01/pegah/finetuning-models-with-packet-loss/ge_gpt2-large_output/mnli'"
   ]
  },
  {
   "cell_type": "code",
   "execution_count": 16,
   "id": "7fbae206",
   "metadata": {},
   "outputs": [],
   "source": [
    "# lrs = [\"0\", \"0.001\", \"0.002\", \"0.005\", \"0.01\"]\n",
    "# lrs = [\"0.002\"]\n",
    "lrs = [\"one_percent\", \"half_percent\", \"point2_percent\"]\n",
    "lrs.extend([\"short_1percent\", \"short_half_percent\", \"short_point_2percent\", \"short_point1_percent\"])\n",
    "nodes = [\"8\"]"
   ]
  },
  {
   "cell_type": "code",
   "execution_count": 17,
   "id": "69eccef4",
   "metadata": {},
   "outputs": [
    {
     "name": "stdout",
     "output_type": "stream",
     "text": [
      "[140, 140, 140, 140, 140]\n",
      "lr: one_percent, nodes: 8, mean: 140.0, std: 0.0\n",
      "[120, 120, 120, 120, 120]\n",
      "lr: half_percent, nodes: 8, mean: 120.0, std: 0.0\n",
      "[]\n",
      "[]\n",
      "[]\n",
      "[]\n",
      "[80, 120, 120, 120, 100]\n",
      "lr: short_point1_percent, nodes: 8, mean: 108.0, std: 16.0\n"
     ]
    }
   ],
   "source": [
    "for lr in lrs:\n",
    "    for node in nodes:\n",
    "        results = []\n",
    "        for seed in [10, 20, 30, 40, 50]:\n",
    "            # file_path = f\"\"\"{mnli_gpt_dir}/gpt2-large_{node}nodes_mnli_lr{lr}_seed{seed}/ttac_report.txt\"\"\"\n",
    "            file_path = f\"\"\"{ge_gpt_dir}/ge_gpt2-large_{node}nodes_mnli_lr_{lr}_seed{seed}/ttac_report.txt\"\"\"\n",
    "            try:\n",
    "                with open(file_path, 'r') as f:\n",
    "                    line = f.readlines()[0]\n",
    "                    step = int(line.split(' ')[-1])\n",
    "                    results.append(step)\n",
    "            except:\n",
    "                continue\n",
    "        print(results)\n",
    "        if len(results) ==0:\n",
    "            continue\n",
    "        results = np.array(results)\n",
    "        mean = np.mean(results)\n",
    "        std = np.std(results)\n",
    "        print(f\"lr: {lr}, nodes: {node}, mean: {mean}, std: {std}\")\n"
   ]
  },
  {
   "cell_type": "code",
   "execution_count": null,
   "id": "2af032c8",
   "metadata": {},
   "outputs": [],
   "source": []
  }
 ],
 "metadata": {
  "kernelspec": {
   "display_name": "ajay",
   "language": "python",
   "name": "python3"
  },
  "language_info": {
   "codemirror_mode": {
    "name": "ipython",
    "version": 3
   },
   "file_extension": ".py",
   "mimetype": "text/x-python",
   "name": "python",
   "nbconvert_exporter": "python",
   "pygments_lexer": "ipython3",
   "version": "3.11.9"
  }
 },
 "nbformat": 4,
 "nbformat_minor": 5
}
