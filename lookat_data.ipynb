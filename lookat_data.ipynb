{
 "cells": [
  {
   "cell_type": "code",
   "execution_count": 1,
   "id": "2ef95ce5",
   "metadata": {},
   "outputs": [
    {
     "name": "stderr",
     "output_type": "stream",
     "text": [
      "/home/palipoormola/miniconda3/envs/ajay/lib/python3.11/site-packages/tqdm/auto.py:21: TqdmWarning: IProgress not found. Please update jupyter and ipywidgets. See https://ipywidgets.readthedocs.io/en/stable/user_install.html\n",
      "  from .autonotebook import tqdm as notebook_tqdm\n"
     ]
    }
   ],
   "source": [
    "from datasets import load_dataset"
   ]
  },
  {
   "cell_type": "code",
   "execution_count": null,
   "id": "53be43bf",
   "metadata": {},
   "outputs": [
    {
     "name": "stderr",
     "output_type": "stream",
     "text": [
      "Downloading builder script: 100%|██████████| 5.36k/5.36k [00:00<00:00, 37.0kB/s]\n",
      "Downloading readme: 100%|██████████| 8.41k/8.41k [00:00<00:00, 148kB/s]\n",
      "Downloading data: 100%|██████████| 1.82M/1.82M [00:00<00:00, 50.7MB/s]\n",
      "Downloading data: 100%|██████████| 815k/815k [00:00<00:00, 69.6MB/s]\n",
      "Generating train split: 100%|██████████| 16113/16113 [00:00<00:00, 31380.73 examples/s]\n",
      "Generating test split: 100%|██████████| 3084/3084 [00:00<00:00, 33045.67 examples/s]\n",
      "Generating validation split: 100%|██████████| 1838/1838 [00:00<00:00, 26706.61 examples/s]\n"
     ]
    }
   ],
   "source": [
    "import matplotlib.pyplot as plt\n",
    "import numpy as np\n",
    "\n",
    "data = {\n",
    "    'fp16': {\n",
    "        '0.0': [1600, 1200, 750],\n",
    "        '0.1': [1600, 1050, 700],\n",
    "        '0.5': [1600, 1150, 850],\n",
    "        '1.0': [1600, 1550, 1250],\n",
    "    },\n",
    "    'fp32': {\n",
    "        '0.0': [2500, 1600, 1100],\n",
    "        '0.1': [2700, 1600, 1000],\n",
    "        '0.5': [2900, 1750, 1550],\n",
    "        '1.0': [2900, 2200, 2050],\n",
    "    }\n",
    "}\n",
    "\n",
    "loss_rates = ['0.0', '0.1', '0.5', '1.0']\n",
    "precisions = ['fp16', 'fp32']\n",
    "num_nodes = 3\n",
    "\n",
    "# Extract values: shape will be [precision][loss][dataset]\n",
    "values = {\n",
    "    p: [data[p][l][:num_nodes] for l in loss_rates]\n",
    "    for p in precisions\n",
    "}\n",
    "\n",
    "x = np.arange(len(loss_rates))  # four bars per group\n",
    "width = 0.35  # width of each bar\n",
    "fig, axs = plt.subplots(1, num_nodes, figsize=(15, 5), sharey=True, dpi=300)\n",
    "\n",
    "for i in range(num_nodes):\n",
    "    ax = axs[i]\n",
    "    fp16_vals = [values['fp16'][j][i] for j in range(len(loss_rates))]\n",
    "    fp32_vals = [values['fp32'][j][i] for j in range(len(loss_rates))]\n",
    "\n",
    "    ax.bar(x - width/2, fp16_vals, width, label='fp16')\n",
    "    ax.bar(x + width/2, fp32_vals, width, label='fp32')\n",
    "    ax.set_xticks(x)\n",
    "    ax.set_xticklabels(loss_rates, fontsize=11)\n",
    "    ax.set_xlabel('Loss Rate (%)', fontsize=13)\n",
    "    ax.set_title(f'{(i+1)*2} Nodes', fontsize=14, pad=10)\n",
    "    if i == 0:\n",
    "        ax.set_ylabel('Steps to Target Accuracy', fontsize=13, labelpad=10)\n",
    "    ax.set_axisbelow(True)\n",
    "    ax.grid()\n",
    "\n",
    "axs[0].legend()\n",
    "plt.tight_layout()\n",
    "plt.show()\n"
   ]
  },
  {
   "cell_type": "code",
   "execution_count": null,
   "id": "5c8af6d7",
   "metadata": {},
   "outputs": [
    {
     "data": {
      "text/plain": [
       "\"When boiling butter, when it's ready, you can\""
      ]
     },
     "execution_count": 4,
     "metadata": {},
     "output_type": "execute_result"
    }
   ],
   "source": []
  },
  {
   "cell_type": "code",
   "execution_count": 1,
   "id": "1787ef6a",
   "metadata": {},
   "outputs": [],
   "source": [
    "from datasets import load_dataset"
   ]
  },
  {
   "cell_type": "code",
   "execution_count": 2,
   "id": "6d62ff7a",
   "metadata": {},
   "outputs": [],
   "source": [
    "dataset = load_dataset(\"allenai/ai2_arc\", \"ARC-Easy\")\n"
   ]
  },
  {
   "cell_type": "code",
   "execution_count": 3,
   "id": "f8a6d80b",
   "metadata": {},
   "outputs": [
    {
     "data": {
      "text/plain": [
       "Dataset({\n",
       "    features: ['id', 'question', 'choices', 'answerKey'],\n",
       "    num_rows: 2251\n",
       "})"
      ]
     },
     "execution_count": 3,
     "metadata": {},
     "output_type": "execute_result"
    }
   ],
   "source": [
    "dataset['train']"
   ]
  },
  {
   "cell_type": "code",
   "execution_count": null,
   "id": "1d48520a",
   "metadata": {},
   "outputs": [],
   "source": []
  }
 ],
 "metadata": {
  "kernelspec": {
   "display_name": "ajay",
   "language": "python",
   "name": "python3"
  },
  "language_info": {
   "codemirror_mode": {
    "name": "ipython",
    "version": 3
   },
   "file_extension": ".py",
   "mimetype": "text/x-python",
   "name": "python",
   "nbconvert_exporter": "python",
   "pygments_lexer": "ipython3",
   "version": "3.11.9"
  }
 },
 "nbformat": 4,
 "nbformat_minor": 5
}
